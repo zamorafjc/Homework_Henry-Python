{
 "cells": [
  {
   "cell_type": "code",
   "execution_count": 82,
   "metadata": {},
   "outputs": [
    {
     "name": "stdout",
     "output_type": "stream",
     "text": [
      "8\n"
     ]
    }
   ],
   "source": [
    "var_ent = 8\n",
    "print(var_ent)"
   ]
  },
  {
   "cell_type": "code",
   "execution_count": 3,
   "metadata": {},
   "outputs": [
    {
     "name": "stdout",
     "output_type": "stream",
     "text": [
      "<class 'float'>\n"
     ]
    }
   ],
   "source": [
    "print(type(8.5))"
   ]
  },
  {
   "cell_type": "code",
   "execution_count": 4,
   "metadata": {},
   "outputs": [
    {
     "name": "stdout",
     "output_type": "stream",
     "text": [
      "<class 'int'>\n"
     ]
    }
   ],
   "source": [
    "print(type(var_ent))"
   ]
  },
  {
   "cell_type": "code",
   "execution_count": 5,
   "metadata": {},
   "outputs": [
    {
     "name": "stdout",
     "output_type": "stream",
     "text": [
      "Juan Carlos Zamora\n"
     ]
    }
   ],
   "source": [
    "var_nom = 'Juan Carlos Zamora'\n",
    "print(var_nom)"
   ]
  },
  {
   "cell_type": "code",
   "execution_count": 6,
   "metadata": {},
   "outputs": [
    {
     "name": "stdout",
     "output_type": "stream",
     "text": [
      "(2+3j)\n"
     ]
    }
   ],
   "source": [
    "var_compl = 2 + 3j\n",
    "print(var_compl)"
   ]
  },
  {
   "cell_type": "code",
   "execution_count": 7,
   "metadata": {},
   "outputs": [
    {
     "name": "stdout",
     "output_type": "stream",
     "text": [
      "<class 'complex'>\n"
     ]
    }
   ],
   "source": [
    "print(type(var_compl))"
   ]
  },
  {
   "cell_type": "code",
   "execution_count": 12,
   "metadata": {},
   "outputs": [
    {
     "name": "stdout",
     "output_type": "stream",
     "text": [
      "3.1416\n"
     ]
    }
   ],
   "source": [
    "from cmath import pi\n",
    "\n",
    "\n",
    "var_pi = pi\n",
    "print(round(var_pi,4))"
   ]
  },
  {
   "cell_type": "code",
   "execution_count": 17,
   "metadata": {},
   "outputs": [
    {
     "data": {
      "text/plain": [
       "'No es lo mismo una es una variable str y la otra bool'"
      ]
     },
     "execution_count": 17,
     "metadata": {},
     "output_type": "execute_result"
    }
   ],
   "source": [
    "var_str = 'True'\n",
    "var_log = True\n",
    "\n",
    "'No es lo mismo una es una variable str y la otra bool'"
   ]
  },
  {
   "cell_type": "code",
   "execution_count": 18,
   "metadata": {},
   "outputs": [
    {
     "name": "stdout",
     "output_type": "stream",
     "text": [
      "<class 'str'>\n",
      "<class 'bool'>\n"
     ]
    }
   ],
   "source": [
    "print (type(var_str))\n",
    "print (type(var_log))"
   ]
  },
  {
   "cell_type": "code",
   "execution_count": 19,
   "metadata": {},
   "outputs": [
    {
     "name": "stdout",
     "output_type": "stream",
     "text": [
      "9.8\n"
     ]
    }
   ],
   "source": [
    "var_suma = 5 + 4.8\n",
    "print(var_suma)"
   ]
  },
  {
   "cell_type": "code",
   "execution_count": 20,
   "metadata": {},
   "outputs": [
    {
     "name": "stdout",
     "output_type": "stream",
     "text": [
      "(7+7j)\n"
     ]
    }
   ],
   "source": [
    "var_compl1 = 3 + 5j\n",
    "var_compl2 = 4 + 2j\n",
    "print(var_compl1 + var_compl2)"
   ]
  },
  {
   "cell_type": "code",
   "execution_count": 22,
   "metadata": {},
   "outputs": [
    {
     "name": "stdout",
     "output_type": "stream",
     "text": [
      "(12.8+5j)\n"
     ]
    }
   ],
   "source": [
    "\n",
    "print(var_suma + var_compl1)"
   ]
  },
  {
   "cell_type": "code",
   "execution_count": 23,
   "metadata": {},
   "outputs": [
    {
     "name": "stdout",
     "output_type": "stream",
     "text": [
      "30\n"
     ]
    }
   ],
   "source": [
    "print (5 * 6)"
   ]
  },
  {
   "cell_type": "code",
   "execution_count": 24,
   "metadata": {},
   "outputs": [
    {
     "name": "stdout",
     "output_type": "stream",
     "text": [
      "256\n"
     ]
    }
   ],
   "source": [
    "print(2**8)"
   ]
  },
  {
   "cell_type": "code",
   "execution_count": 25,
   "metadata": {},
   "outputs": [
    {
     "name": "stdout",
     "output_type": "stream",
     "text": [
      "6.75\n"
     ]
    }
   ],
   "source": [
    "var_div = 27/4\n",
    "print(var_div)"
   ]
  },
  {
   "cell_type": "code",
   "execution_count": 30,
   "metadata": {},
   "outputs": [
    {
     "name": "stdout",
     "output_type": "stream",
     "text": [
      "6\n"
     ]
    }
   ],
   "source": [
    "var_div1 = int(var_div)\n",
    "print(var_div1)"
   ]
  },
  {
   "cell_type": "code",
   "execution_count": 31,
   "metadata": {},
   "outputs": [
    {
     "name": "stdout",
     "output_type": "stream",
     "text": [
      "3\n"
     ]
    }
   ],
   "source": [
    "var_div2 = 27%4\n",
    "print(var_div2)"
   ]
  },
  {
   "cell_type": "code",
   "execution_count": 32,
   "metadata": {},
   "outputs": [
    {
     "name": "stdout",
     "output_type": "stream",
     "text": [
      "27\n"
     ]
    }
   ],
   "source": [
    "print(4*var_div1+var_div2)\n"
   ]
  },
  {
   "cell_type": "code",
   "execution_count": 34,
   "metadata": {},
   "outputs": [
    {
     "name": "stdout",
     "output_type": "stream",
     "text": [
      "Juan Carlos Zamora\n"
     ]
    }
   ],
   "source": [
    "var_nom1 = 'Juan Carlos'\n",
    "var_nom2 = ' Zamora'\n",
    "var_nom3 = var_nom1 + var_nom2\n",
    "print(var_nom3)"
   ]
  },
  {
   "cell_type": "code",
   "execution_count": 40,
   "metadata": {},
   "outputs": [
    {
     "name": "stdout",
     "output_type": "stream",
     "text": [
      "<class 'str'>\n",
      "<class 'int'>\n"
     ]
    },
    {
     "data": {
      "text/plain": [
       "'El numero dos entre comillas es un tipo cadena y el dos sin comillas es un numero entero'"
      ]
     },
     "execution_count": 40,
     "metadata": {},
     "output_type": "execute_result"
    }
   ],
   "source": [
    "var_201 = \"2\"\n",
    "var_202 = 2\n",
    "print(type(var_201))\n",
    "print(type(var_202))\n",
    "'El numero dos entre comillas es un tipo cadena y el dos sin comillas es un numero entero'"
   ]
  },
  {
   "cell_type": "code",
   "execution_count": 41,
   "metadata": {},
   "outputs": [
    {
     "name": "stdout",
     "output_type": "stream",
     "text": [
      "False\n",
      "True\n"
     ]
    }
   ],
   "source": [
    "print (var_201 == var_202)\n",
    "var_201 = int(var_201)\n",
    "print(var_201 == var_202)\n"
   ]
  },
  {
   "cell_type": "code",
   "execution_count": 46,
   "metadata": {},
   "outputs": [
    {
     "name": "stdout",
     "output_type": "stream",
     "text": [
      "3.8\n"
     ]
    },
    {
     "data": {
      "text/plain": [
       "'si pongo 3,8 (con coma) no lo reconoce como numero, ya que python usa como signo decimal el punto'"
      ]
     },
     "execution_count": 46,
     "metadata": {},
     "output_type": "execute_result"
    }
   ],
   "source": [
    "a = float('3.8')\n",
    "print(a)\n",
    "'si pongo 3,8 (con coma) no lo reconoce como numero, ya que python usa como signo decimal el punto'"
   ]
  },
  {
   "cell_type": "code",
   "execution_count": 55,
   "metadata": {},
   "outputs": [
    {
     "name": "stdout",
     "output_type": "stream",
     "text": [
      "-17\n"
     ]
    }
   ],
   "source": [
    "var_23 = 3\n",
    "var_23 -= 20\n",
    "print(var_23)\n",
    "\n"
   ]
  },
  {
   "cell_type": "code",
   "execution_count": 60,
   "metadata": {},
   "outputs": [
    {
     "name": "stdout",
     "output_type": "stream",
     "text": [
      "0b1\n",
      "4\n",
      "0b100\n"
     ]
    },
    {
     "data": {
      "text/plain": [
       "'Da 4 porque se esta trabajando con numeros binarios que son representaciones de ceros y unos. En este caso el binario de 1 es 0001, pero si desplazamos dos unidades a la izquiera, se tiene el numero binario 0100 cuyo valor decimal es 4'"
      ]
     },
     "execution_count": 60,
     "metadata": {},
     "output_type": "execute_result"
    }
   ],
   "source": [
    "\n",
    "print(bin(1))\n",
    "print (1<<2)\n",
    "print (bin(1<<2))\n",
    "'Da 4 porque se esta trabajando con numeros binarios que son representaciones de ceros y unos. En este caso el binario de 1 es 0001, pero si desplazamos dos unidades a la izquiera, se tiene el numero binario 0100 cuyo valor decimal es 4'"
   ]
  },
  {
   "cell_type": "code",
   "execution_count": 68,
   "metadata": {},
   "outputs": [
    {
     "name": "stdout",
     "output_type": "stream",
     "text": [
      "2\n",
      "22\n"
     ]
    }
   ],
   "source": [
    "var_251 = 2\n",
    "var_252 = '2'\n",
    "'var_253 = var_251 + var_252, muestra un error de tipo ya que se estarina sumando un entero con una cadena'\n",
    "var_254 = str (var_251) #se convierte una variable numerica en cadena\n",
    "print (var_254)\n",
    "print (var_252 + var_254) #se suman ambas cadenas"
   ]
  },
  {
   "cell_type": "code",
   "execution_count": 81,
   "metadata": {},
   "outputs": [
    {
     "name": "stdout",
     "output_type": "stream",
     "text": [
      "5\n",
      "cadena\n",
      "cadenacadenacadenacadenacadena\n"
     ]
    }
   ],
   "source": [
    "var_261 = 5\n",
    "var_262 = 'cadena'\n",
    "print(var_261)\n",
    "print(var_262)\n",
    "'Var_263 = var_261 + var_262 - esta operacion da error'\n",
    "print (var_261 * var_262) #multiplica 5 veces la constante 'cadena'"
   ]
  }
 ],
 "metadata": {
  "kernelspec": {
   "display_name": "Python 3.10.7 64-bit",
   "language": "python",
   "name": "python3"
  },
  "language_info": {
   "codemirror_mode": {
    "name": "ipython",
    "version": 3
   },
   "file_extension": ".py",
   "mimetype": "text/x-python",
   "name": "python",
   "nbconvert_exporter": "python",
   "pygments_lexer": "ipython3",
   "version": "3.10.7"
  },
  "orig_nbformat": 4,
  "vscode": {
   "interpreter": {
    "hash": "aee8b7b246df8f9039afb4144a1f6fd8d2ca17a180786b69acc140d282b71a49"
   }
  }
 },
 "nbformat": 4,
 "nbformat_minor": 2
}
