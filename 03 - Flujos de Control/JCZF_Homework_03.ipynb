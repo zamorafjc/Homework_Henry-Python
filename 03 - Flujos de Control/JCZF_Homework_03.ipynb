{
 "cells": [
  {
   "cell_type": "code",
   "execution_count": null,
   "metadata": {},
   "outputs": [
    {
     "name": "stdout",
     "output_type": "stream",
     "text": [
      "45 es mayor que 0\n"
     ]
    }
   ],
   "source": [
    "# 1. Crear una variable que contenga un elemento del conjunto de números enteros y luego imprimir por pantalla si es mayor o menor a cero\n",
    "var1 = 45\n",
    "if var1 > 0:\n",
    "    print (var1,'es mayor que 0')\n",
    "elif (var1 < 0):\n",
    "    print(var1,'es menor que 0')\n",
    "else: \n",
    "    print(var1,'es igual a 0')"
   ]
  },
  {
   "cell_type": "code",
   "execution_count": null,
   "metadata": {},
   "outputs": [
    {
     "name": "stdout",
     "output_type": "stream",
     "text": [
      "76 86.25 No son del mismo tipo de dato\n"
     ]
    }
   ],
   "source": [
    "# 2. Crear dos variables y un condicional que informe si son del mismo tipo de dato\n",
    "var21 = 76\n",
    "var22 = 86.25\n",
    "if type(var21) == type(var22):\n",
    "    print (var21,' y ',var22,'Si son del mismo tipo de dato')\n",
    "else:\n",
    "    print (var21,var22,'No son del mismo tipo de dato')"
   ]
  },
  {
   "cell_type": "code",
   "execution_count": 36,
   "metadata": {},
   "outputs": [
    {
     "name": "stdout",
     "output_type": "stream",
     "text": [
      "1 No es un numero par\n",
      "2 Es un numero par\n",
      "3 No es un numero par\n",
      "4 Es un numero par\n",
      "5 No es un numero par\n",
      "6 Es un numero par\n",
      "7 No es un numero par\n",
      "8 Es un numero par\n",
      "9 No es un numero par\n",
      "10 Es un numero par\n",
      "11 No es un numero par\n",
      "12 Es un numero par\n",
      "13 No es un numero par\n",
      "14 Es un numero par\n",
      "15 No es un numero par\n",
      "16 Es un numero par\n",
      "17 No es un numero par\n",
      "18 Es un numero par\n",
      "19 No es un numero par\n",
      "20 Es un numero par\n"
     ]
    }
   ],
   "source": [
    "# 3. Para los valores enteros del 1 al 20, imprimir por pantalla si es par o impar\n",
    "var31=1\n",
    "var32=21\n",
    "for var31 in range(var31,var32):\n",
    "    if var31%2 == 0:\n",
    "        print(var31,'Es un numero par')\n",
    "    else:\n",
    "        print(var31,'No es un numero par')"
   ]
  },
  {
   "cell_type": "code",
   "execution_count": 37,
   "metadata": {},
   "outputs": [
    {
     "name": "stdout",
     "output_type": "stream",
     "text": [
      "0 elevado a la potencia 3 es igual a  0\n",
      "1 elevado a la potencia 3 es igual a  1\n",
      "2 elevado a la potencia 3 es igual a  8\n",
      "3 elevado a la potencia 3 es igual a  27\n",
      "4 elevado a la potencia 3 es igual a  64\n",
      "5 elevado a la potencia 3 es igual a  125\n"
     ]
    }
   ],
   "source": [
    "# 4. En un ciclo for mostrar para los valores entre 0 y 5 el resultado de elevarlo a la potencia igual a 3\n",
    "var41 = 0\n",
    "var42 = 5\n",
    "for var41 in range(var41,var42+1):\n",
    "    print(var41, 'elevado a la potencia 3 es igual a ', var41**3)"
   ]
  },
  {
   "cell_type": "code",
   "execution_count": 38,
   "metadata": {},
   "outputs": [
    {
     "name": "stdout",
     "output_type": "stream",
     "text": [
      "ciclo  0\n",
      "ciclo  1\n",
      "ciclo  2\n"
     ]
    }
   ],
   "source": [
    "# 5. Crear una variable que contenga un número entero y realizar un ciclo for la misma cantidad de ciclos\n",
    "var51= 3\n",
    "for var51 in range(0,var51):\n",
    "    print('ciclo ', var51)"
   ]
  },
  {
   "cell_type": "code",
   "execution_count": 56,
   "metadata": {},
   "outputs": [
    {
     "name": "stdout",
     "output_type": "stream",
     "text": [
      "120 es el factorial de 5\n"
     ]
    }
   ],
   "source": [
    "# 6. Utilizar un ciclo while para realizar el factorial de un número guardado en una variable, sólo si la variable contiene un número entero mayor a 0\n",
    "var61 = 5\n",
    "var62 = var61 - 1\n",
    "var_fac = var61\n",
    "if var62 > 0:\n",
    "    if type(var62) == int:\n",
    "        while var62 > 0:\n",
    "            var_fac = var_fac * var62\n",
    "            var62 = var62 - 1\n",
    "        print(var_fac,'es el factorial de',var61)\n",
    "    else:\n",
    "        print(var62, 'No es entero')\n",
    "else:\n",
    "    print(var62, 'No es mayor de 0')"
   ]
  },
  {
   "cell_type": "code",
   "execution_count": 58,
   "metadata": {},
   "outputs": [
    {
     "name": "stdout",
     "output_type": "stream",
     "text": [
      "Los factoriales de los numeros menores a  7\n",
      "El factorial de:  7 es : 5040\n",
      "El factorial de:  6 es : 720\n",
      "El factorial de:  5 es : 120\n",
      "El factorial de:  4 es : 24\n",
      "El factorial de:  3 es : 6\n",
      "El factorial de:  2 es : 2\n",
      "El factorial de:  1 es : 1\n",
      "Los factoriales\n"
     ]
    }
   ],
   "source": [
    "# 7. Crear un ciclo for dentro de un ciclo while\n",
    "var71 = 7\n",
    "var73 = var71\n",
    "print('Los factoriales de los numeros menores a ', var71)\n",
    "while var73 > 0:\n",
    "    factor=1    \n",
    "    for x in range(1,(var71+1)):\n",
    "        factor = factor * x\n",
    "    print('El factorial de: ', var71, 'es :', factor)\n",
    "    var73 = var73 - 1\n",
    "    var71 = var71 - 1\n",
    "print('Los factoriales')"
   ]
  },
  {
   "cell_type": "code",
   "execution_count": 60,
   "metadata": {},
   "outputs": [
    {
     "name": "stdout",
     "output_type": "stream",
     "text": [
      "la tabla de multiplicar del 1 al 3\n",
      "3 * 1 = 3\n",
      "3 * 2 = 6\n",
      "3 * 3 = 9\n",
      "3 * 4 = 12\n",
      "3 * 5 = 15\n",
      "3 * 6 = 18\n",
      "3 * 7 = 21\n",
      "3 * 8 = 24\n",
      "3 * 9 = 27\n",
      "la tabla del: 3\n",
      "2 * 1 = 2\n",
      "2 * 2 = 4\n",
      "2 * 3 = 6\n",
      "2 * 4 = 8\n",
      "2 * 5 = 10\n",
      "2 * 6 = 12\n",
      "2 * 7 = 14\n",
      "2 * 8 = 16\n",
      "2 * 9 = 18\n",
      "la tabla del: 2\n",
      "1 * 1 = 1\n",
      "1 * 2 = 2\n",
      "1 * 3 = 3\n",
      "1 * 4 = 4\n",
      "1 * 5 = 5\n",
      "1 * 6 = 6\n",
      "1 * 7 = 7\n",
      "1 * 8 = 8\n",
      "1 * 9 = 9\n",
      "la tabla del: 1\n"
     ]
    }
   ],
   "source": [
    "# 8. Crear un ciclo while dentro de un ciclo for\n",
    "var81 = 3\n",
    "print('la tabla de multiplicar del 1 al', var81)\n",
    "while var81>0:\n",
    "    var8=var81\n",
    "    for x in range(1,10):\n",
    "        print (var8,'*',x,'=',var8*x)\n",
    "    print('la tabla del:',var8)\n",
    "    var81 = var81 -1"
   ]
  },
  {
   "cell_type": "code",
   "execution_count": 61,
   "metadata": {},
   "outputs": [
    {
     "name": "stdout",
     "output_type": "stream",
     "text": [
      "Los numeros primos entre  0 y 30\n",
      "2\n",
      "3\n",
      "5\n",
      "7\n",
      "11\n",
      "13\n",
      "17\n",
      "19\n",
      "23\n",
      "29\n"
     ]
    }
   ],
   "source": [
    "# 9. Imprimir los números primos existentes entre 0 y 30\n",
    "var93 = 2\n",
    "var94 = 30\n",
    "print('Los numeros primos entre ', 0 , 'y', var94)\n",
    "while var93 <= var94:\n",
    "    var92 = 1\n",
    "    for x in range(2,var93):\n",
    "        if (var93%x) == 0:\n",
    "            var92 = 0\n",
    "    if var92 == 1:\n",
    "         print(var93)\n",
    "    var93 = var93 + 1"
   ]
  },
  {
   "cell_type": "code",
   "execution_count": 62,
   "metadata": {},
   "outputs": [
    {
     "name": "stdout",
     "output_type": "stream",
     "text": [
      "Los numeros primos entre  0 y 100\n",
      "2\n",
      "3\n",
      "5\n",
      "7\n",
      "11\n",
      "13\n",
      "17\n",
      "19\n",
      "23\n",
      "29\n",
      "31\n",
      "37\n",
      "41\n",
      "43\n",
      "47\n",
      "53\n",
      "59\n",
      "61\n",
      "67\n",
      "71\n",
      "73\n",
      "79\n",
      "83\n",
      "89\n",
      "97\n"
     ]
    }
   ],
   "source": [
    "# 10. Se puede mejorar el proceso del punto 9? Utilizar las sentencias break y/ó continue para tal fin\n",
    "## Se obtienen numeros primos de menores a 100\n",
    "var93 = 2\n",
    "var94 = 100\n",
    "print('Los numeros primos entre ', 0 , 'y', var94)\n",
    "while True:\n",
    "    if var93 == var94:\n",
    "        break\n",
    "    var92 = 1\n",
    "    for x in range(2,var93):\n",
    "        if (var93%x) == 0:\n",
    "            var92 = 0\n",
    "    if var92 == 1:\n",
    "         print(var93)\n",
    "    var93 = var93 + 1"
   ]
  },
  {
   "cell_type": "code",
   "execution_count": null,
   "metadata": {},
   "outputs": [],
   "source": [
    "# 11. En los puntos 9 y 10, se diseño un código que encuentra números primos y además se lo optimizó. ¿Es posible saber en qué medida se optimizó?\n",
    "\n",
    "## en el punto 9 el tiempo es 0.4 s y en epunto 10 0.2 s, optimizando 0.2 s"
   ]
  },
  {
   "cell_type": "code",
   "execution_count": null,
   "metadata": {},
   "outputs": [],
   "source": [
    "# 12. Si la cantidad de números que se evalúa es mayor a treinta, esa optimización crece?\n",
    "\n",
    "# No necesariamente"
   ]
  },
  {
   "cell_type": "code",
   "execution_count": 64,
   "metadata": {},
   "outputs": [
    {
     "name": "stdout",
     "output_type": "stream",
     "text": [
      "Los numeros divisibles por 12 entre 100 y 300\n",
      "108\n",
      "120\n",
      "132\n",
      "144\n",
      "156\n",
      "168\n",
      "180\n",
      "192\n",
      "204\n",
      "216\n",
      "228\n",
      "240\n",
      "252\n",
      "264\n",
      "276\n",
      "288\n"
     ]
    }
   ],
   "source": [
    "# 13. Aplicando continue, armar un ciclo while que solo imprima los valores divisibles por 12, dentro del rango de números de 100 a 300\n",
    "var131 = 100\n",
    "var132 = 300\n",
    "print('Los numeros divisibles por 12 entre', var131, 'y', var132)\n",
    "while True:\n",
    "    if var131 == var132:\n",
    "        break\n",
    "    if var131%12 == 0:\n",
    "        print(var131)\n",
    "    var131 = var131 + 1\n",
    "    \n"
   ]
  },
  {
   "cell_type": "code",
   "execution_count": 65,
   "metadata": {},
   "outputs": [
    {
     "name": "stdout",
     "output_type": "stream",
     "text": [
      "10 No es un numero primo\n",
      "7 Si es un numero primo\n",
      "Gracias\n"
     ]
    }
   ],
   "source": [
    "# 14. Utilizar la función input() que permite hacer ingresos por teclado, para encontrar números primos y dar la opción al usario de buscar el siguiente\n",
    "\n",
    "while True:\n",
    "    var141 = int(input('Ingrese el numero a validar :' ))\n",
    "    var143 = 1\n",
    "    for x in range(2,var141):\n",
    "        if (var141%x) == 0:\n",
    "            var143 = 0\n",
    "    if var143 == 1:\n",
    "         print(var141, 'Si es un numero primo')\n",
    "    elif (var143 == 0 ):\n",
    "        print(var141, 'No es un numero primo')\n",
    "    var144 = input('Desea continuar? S/N:')\n",
    "    if var144 == 'N':\n",
    "        print('Gracias')\n",
    "        break"
   ]
  },
  {
   "cell_type": "code",
   "execution_count": 67,
   "metadata": {},
   "outputs": [
    {
     "name": "stdout",
     "output_type": "stream",
     "text": [
      "El numero:  102 es divisible por 3 y por 6\n"
     ]
    }
   ],
   "source": [
    "# 15. Crear un ciclo while que encuentre dentro del rango de 100 a 300 el primer número divisible por 3 y además múltiplo de 6\n",
    "var151 = 100\n",
    "var152 = 300\n",
    "var152 = 0\n",
    "while True:\n",
    "    if var152 == 1:\n",
    "        break\n",
    "    if var151%3 == 0:\n",
    "        if var151%6 == 0:\n",
    "            print('El numero: ', var151, 'es divisible por 3 y por 6')\n",
    "            var152 = 1\n",
    "    var151 = var151 + 1"
   ]
  }
 ],
 "metadata": {
  "kernelspec": {
   "display_name": "Python 3.10.7 64-bit",
   "language": "python",
   "name": "python3"
  },
  "language_info": {
   "codemirror_mode": {
    "name": "ipython",
    "version": 3
   },
   "file_extension": ".py",
   "mimetype": "text/x-python",
   "name": "python",
   "nbconvert_exporter": "python",
   "pygments_lexer": "ipython3",
   "version": "3.10.7"
  },
  "orig_nbformat": 4,
  "vscode": {
   "interpreter": {
    "hash": "aee8b7b246df8f9039afb4144a1f6fd8d2ca17a180786b69acc140d282b71a49"
   }
  }
 },
 "nbformat": 4,
 "nbformat_minor": 2
}
